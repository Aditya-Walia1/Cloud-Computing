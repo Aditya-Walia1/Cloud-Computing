{
  "nbformat": 4,
  "nbformat_minor": 0,
  "metadata": {
    "colab": {
      "provenance": [],
      "authorship_tag": "ABX9TyNN0XQ7QX/USElZ4Ns2K2my",
      "include_colab_link": true
    },
    "kernelspec": {
      "name": "python3",
      "display_name": "Python 3"
    },
    "language_info": {
      "name": "python"
    }
  },
  "cells": [
    {
      "cell_type": "markdown",
      "metadata": {
        "id": "view-in-github",
        "colab_type": "text"
      },
      "source": [
        "<a href=\"https://colab.research.google.com/github/Aditya-Walia1/Cloud-Computing/blob/main/102216126_AdityaWalia_3CS14.ipynb\" target=\"_parent\"><img src=\"https://colab.research.google.com/assets/colab-badge.svg\" alt=\"Open In Colab\"/></a>"
      ]
    },
    {
      "cell_type": "code",
      "execution_count": null,
      "metadata": {
        "id": "mdk11PcE3-xB"
      },
      "outputs": [],
      "source": [
        "!pip install Flask pyngrok\n",
        "!ngrok authtoken 2kPVPu0MQfydbsz6gqgppoW0UzP_6XwfRwHHzhZXSYZBXacNv"
      ]
    },
    {
      "cell_type": "markdown",
      "source": [
        "##Excercise 1"
      ],
      "metadata": {
        "id": "4LenFyaa5J1G"
      }
    },
    {
      "cell_type": "code",
      "source": [
        "import threading\n",
        "import time\n",
        "\n",
        "# Function for thread to print numbers from 1 to 10\n",
        "def print_numbers(thread_name):\n",
        "    for i in range(1, 11):\n",
        "        print(f\"{thread_name}: {i}\")\n",
        "        time.sleep(1)\n",
        "\n",
        "# Create two threads\n",
        "thread1 = threading.Thread(target=print_numbers, args=(\"Thread 1\",))\n",
        "thread2 = threading.Thread(target=print_numbers, args=(\"Thread 2\",))\n",
        "\n",
        "# Start the threads\n",
        "thread1.start()\n",
        "thread2.start()\n",
        "\n",
        "# Wait for both threads to complete\n",
        "thread1.join()\n",
        "thread2.join()\n",
        "\n",
        "print(\"Both threads have finished execution.\")\n"
      ],
      "metadata": {
        "colab": {
          "base_uri": "https://localhost:8080/"
        },
        "id": "hnMyjtQ35MXh",
        "outputId": "3e6d9d98-8212-4f14-e0c7-b9b8972b3419"
      },
      "execution_count": null,
      "outputs": [
        {
          "output_type": "stream",
          "name": "stdout",
          "text": [
            "Thread 1: 1\n",
            "Thread 2: 1\n",
            "Thread 1: 2\n",
            "Thread 2: 2\n",
            "Thread 1: 3\n",
            "Thread 2: 3\n",
            "Thread 1: 4\n",
            "Thread 2: 4\n",
            "Thread 1: 5\n",
            "Thread 2: 5\n",
            "Thread 1: 6\n",
            "Thread 2: 6\n",
            "Thread 1: 7\n",
            "Thread 2: 7\n",
            "Thread 1: 8\n",
            "Thread 2: 8\n",
            "Thread 1: 9\n",
            "Thread 2: 9\n",
            "Thread 1: 10\n",
            "Thread 2: 10\n",
            "Both threads have finished execution.\n"
          ]
        }
      ]
    },
    {
      "cell_type": "markdown",
      "source": [
        "##Excercise 2"
      ],
      "metadata": {
        "id": "jzCnxOGR5M6i"
      }
    },
    {
      "cell_type": "code",
      "source": [
        "from flask import Flask\n",
        "import threading\n",
        "import time\n",
        "\n",
        "app = Flask(__name__)\n",
        "\n",
        "def long_running_task(task_id):\n",
        "    for i in range(1, 11):\n",
        "        print(f\"Task {task_id}: {i}\")\n",
        "        time.sleep(1)\n",
        "    print(f\"Task {task_id} completed.\")\n",
        "\n",
        "@app.route('/start_task/<task_id>')\n",
        "def start_task(task_id):\n",
        "    task_thread = threading.Thread(target=long_running_task, args=(task_id,))\n",
        "    task_thread.start()\n",
        "    return f\"Task {task_id} has started!\"\n",
        "\n",
        "if __name__ == '__main__':\n",
        "    app.run(debug=True)\n"
      ],
      "metadata": {
        "colab": {
          "base_uri": "https://localhost:8080/"
        },
        "id": "hPPfKzin6CWL",
        "outputId": "e4159d5a-90f2-4d1e-a524-43fd641c1c6c"
      },
      "execution_count": null,
      "outputs": [
        {
          "output_type": "stream",
          "name": "stdout",
          "text": [
            " * Serving Flask app '__main__'\n",
            " * Debug mode: on\n"
          ]
        },
        {
          "output_type": "stream",
          "name": "stderr",
          "text": [
            "INFO:werkzeug:\u001b[31m\u001b[1mWARNING: This is a development server. Do not use it in a production deployment. Use a production WSGI server instead.\u001b[0m\n",
            " * Running on http://127.0.0.1:5000\n",
            "INFO:werkzeug:\u001b[33mPress CTRL+C to quit\u001b[0m\n",
            "INFO:werkzeug: * Restarting with stat\n"
          ]
        }
      ]
    },
    {
      "cell_type": "code",
      "source": [
        "import json\n",
        "\n",
        "class CloudStorageSim:\n",
        "    def __init__(self, filename):\n",
        "        self.filename = filename\n",
        "\n",
        "    def upload(self, data):\n",
        "        with open(self.filename, 'w') as file:\n",
        "            json.dump(data, file)\n",
        "\n",
        "    def download(self):\n",
        "        with open(self.filename, 'r') as file:\n",
        "            return json.load(file)\n",
        "\n",
        "    data = {\"name\": \"Alice\", \"age\": 30, \"city\": \"Wonderland\"}\n",
        "cloud_storage = CloudStorageSim('data.json')\n",
        "cloud_storage.upload(data)\n",
        "loaded_data = cloud_storage.download()\n",
        "print(f\"Loaded data: {loaded_data}\")\n",
        "\n"
      ],
      "metadata": {
        "id": "nFRrviOb9H9p"
      },
      "execution_count": null,
      "outputs": []
    },
    {
      "cell_type": "markdown",
      "source": [
        "##Exercise 3"
      ],
      "metadata": {
        "id": "LN03lTfW4RYb"
      }
    },
    {
      "cell_type": "code",
      "source": [
        "def calculate_sum_of_squares(start_number, end_number):\n",
        "    total = 0\n",
        "    for number in range(start_number, end_number + 1):\n",
        "        total += number ** 2\n",
        "    return total\n",
        "\n",
        "if __name__ == \"__main__\":\n",
        "    result = calculate_sum_of_squares(1, 100)\n",
        "    print(f\"The sum of squares from 1 to 100 is: {result}\")\n"
      ],
      "metadata": {
        "colab": {
          "base_uri": "https://localhost:8080/"
        },
        "id": "ENt2BTpb4U10",
        "outputId": "6727f70c-a6ee-4900-d93d-dfb5c4eb57f4"
      },
      "execution_count": 1,
      "outputs": [
        {
          "output_type": "stream",
          "name": "stdout",
          "text": [
            "The sum of squares from 1 to 100 is: 338350\n"
          ]
        }
      ]
    },
    {
      "cell_type": "code",
      "source": [
        "from multiprocessing import Process, Queue\n",
        "\n",
        "def sum_of_squares(start, end, queue):\n",
        "    result = sum(i**2 for i in range(start, end + 1))\n",
        "    queue.put(result)\n",
        "\n",
        "if __name__ == \"__main__\":\n",
        "    # Define the range splits for 4 processes\n",
        "    ranges = [(1, 25), (26, 50), (51, 75), (76, 100)]\n",
        "\n",
        "    queue = Queue()\n",
        "    processes = []\n",
        "\n",
        "    # Start 4 processes\n",
        "    for start, end in ranges:\n",
        "        process = Process(target=sum_of_squares, args=(start, end, queue))\n",
        "        processes.append(process)\n",
        "        process.start()\n",
        "\n",
        "    # Ensure all processes finish\n",
        "    for process in processes:\n",
        "        process.join()\n",
        "\n",
        "    # Collect results from all processes\n",
        "    total_sum = sum(queue.get() for _ in processes)\n",
        "\n",
        "    print(f\"Final sum of squares from 1 to 100 using multiprocessing is: {total_sum}\")\n"
      ],
      "metadata": {
        "colab": {
          "base_uri": "https://localhost:8080/"
        },
        "id": "RH8ze8Na4urC",
        "outputId": "1e6d67dc-85a3-4330-9268-af0243b792c4"
      },
      "execution_count": 2,
      "outputs": [
        {
          "output_type": "stream",
          "name": "stdout",
          "text": [
            "Final sum of squares from 1 to 100 using multiprocessing is: 338350\n"
          ]
        }
      ]
    },
    {
      "cell_type": "code",
      "source": [
        "pip install dask\n"
      ],
      "metadata": {
        "colab": {
          "base_uri": "https://localhost:8080/"
        },
        "id": "URklImtA4zOh",
        "outputId": "7ff083bf-eecf-49e8-fc74-08cc3eed1365"
      },
      "execution_count": 3,
      "outputs": [
        {
          "output_type": "stream",
          "name": "stdout",
          "text": [
            "Requirement already satisfied: dask in /usr/local/lib/python3.10/dist-packages (2024.7.1)\n",
            "Requirement already satisfied: click>=8.1 in /usr/local/lib/python3.10/dist-packages (from dask) (8.1.7)\n",
            "Requirement already satisfied: cloudpickle>=1.5.0 in /usr/local/lib/python3.10/dist-packages (from dask) (2.2.1)\n",
            "Requirement already satisfied: fsspec>=2021.09.0 in /usr/local/lib/python3.10/dist-packages (from dask) (2024.6.1)\n",
            "Requirement already satisfied: packaging>=20.0 in /usr/local/lib/python3.10/dist-packages (from dask) (24.1)\n",
            "Requirement already satisfied: partd>=1.4.0 in /usr/local/lib/python3.10/dist-packages (from dask) (1.4.2)\n",
            "Requirement already satisfied: pyyaml>=5.3.1 in /usr/local/lib/python3.10/dist-packages (from dask) (6.0.2)\n",
            "Requirement already satisfied: toolz>=0.10.0 in /usr/local/lib/python3.10/dist-packages (from dask) (0.12.1)\n",
            "Requirement already satisfied: importlib-metadata>=4.13.0 in /usr/local/lib/python3.10/dist-packages (from dask) (8.4.0)\n",
            "Requirement already satisfied: zipp>=0.5 in /usr/local/lib/python3.10/dist-packages (from importlib-metadata>=4.13.0->dask) (3.20.0)\n",
            "Requirement already satisfied: locket in /usr/local/lib/python3.10/dist-packages (from partd>=1.4.0->dask) (1.0.0)\n"
          ]
        }
      ]
    },
    {
      "cell_type": "code",
      "source": [
        "from dask import delayed, compute\n",
        "\n",
        "def sum_of_squares(start, end):\n",
        "    return sum(i**2 for i in range(start, end + 1))\n",
        "\n",
        "if __name__ == \"__main__\":\n",
        "    # Define the range splits for 4 tasks\n",
        "    ranges = [(1, 25), (26, 50), (51, 75), (76, 100)]\n",
        "\n",
        "    # Create delayed tasks\n",
        "    tasks = [delayed(sum_of_squares)(start, end) for start, end in ranges]\n",
        "\n",
        "    # Execute tasks in parallel\n",
        "    results = compute(*tasks)\n",
        "\n",
        "    # Sum the results\n",
        "    total_sum = sum(results)\n",
        "\n",
        "    print(f\"Final sum of squares from 1 to 100 using Dask is: {total_sum}\")\n"
      ],
      "metadata": {
        "colab": {
          "base_uri": "https://localhost:8080/"
        },
        "id": "JCr0OkPP488_",
        "outputId": "5d9e56fb-a0ca-4bf2-df98-9073262c3db9"
      },
      "execution_count": 4,
      "outputs": [
        {
          "output_type": "stream",
          "name": "stdout",
          "text": [
            "Final sum of squares from 1 to 100 using Dask is: 338350\n"
          ]
        }
      ]
    },
    {
      "cell_type": "code",
      "source": [],
      "metadata": {
        "id": "zfUrbBqn-aaJ"
      },
      "execution_count": null,
      "outputs": []
    }
  ]
}