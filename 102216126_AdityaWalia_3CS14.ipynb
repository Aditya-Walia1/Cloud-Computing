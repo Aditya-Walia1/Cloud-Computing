{
  "nbformat": 4,
  "nbformat_minor": 0,
  "metadata": {
    "colab": {
      "provenance": [],
      "authorship_tag": "ABX9TyMvzE/a9JVFEOO/FqjG/mnM",
      "include_colab_link": true
    },
    "kernelspec": {
      "name": "python3",
      "display_name": "Python 3"
    },
    "language_info": {
      "name": "python"
    }
  },
  "cells": [
    {
      "cell_type": "markdown",
      "metadata": {
        "id": "view-in-github",
        "colab_type": "text"
      },
      "source": [
        "<a href=\"https://colab.research.google.com/github/Aditya-Walia1/Cloud-Computing/blob/main/102216126_AdityaWalia_3CS14.ipynb\" target=\"_parent\"><img src=\"https://colab.research.google.com/assets/colab-badge.svg\" alt=\"Open In Colab\"/></a>"
      ]
    },
    {
      "cell_type": "code",
      "execution_count": null,
      "metadata": {
        "colab": {
          "base_uri": "https://localhost:8080/"
        },
        "id": "mdk11PcE3-xB",
        "outputId": "850dcb23-aeab-47aa-b44b-90f24daf019d"
      },
      "outputs": [
        {
          "output_type": "stream",
          "name": "stdout",
          "text": [
            "Requirement already satisfied: Flask in /usr/local/lib/python3.10/dist-packages (2.2.5)\n",
            "Collecting pyngrok\n",
            "  Downloading pyngrok-7.2.0-py3-none-any.whl.metadata (7.4 kB)\n",
            "Requirement already satisfied: Werkzeug>=2.2.2 in /usr/local/lib/python3.10/dist-packages (from Flask) (3.0.3)\n",
            "Requirement already satisfied: Jinja2>=3.0 in /usr/local/lib/python3.10/dist-packages (from Flask) (3.1.4)\n",
            "Requirement already satisfied: itsdangerous>=2.0 in /usr/local/lib/python3.10/dist-packages (from Flask) (2.2.0)\n",
            "Requirement already satisfied: click>=8.0 in /usr/local/lib/python3.10/dist-packages (from Flask) (8.1.7)\n",
            "Requirement already satisfied: PyYAML>=5.1 in /usr/local/lib/python3.10/dist-packages (from pyngrok) (6.0.1)\n",
            "Requirement already satisfied: MarkupSafe>=2.0 in /usr/local/lib/python3.10/dist-packages (from Jinja2>=3.0->Flask) (2.1.5)\n",
            "Downloading pyngrok-7.2.0-py3-none-any.whl (22 kB)\n",
            "Installing collected packages: pyngrok\n",
            "Successfully installed pyngrok-7.2.0\n",
            "Authtoken saved to configuration file: /root/.config/ngrok/ngrok.yml\n"
          ]
        }
      ],
      "source": [
        "!pip install Flask pyngrok\n",
        "!ngrok authtoken 2kPVPu0MQfydbsz6gqgppoW0UzP_6XwfRwHHzhZXSYZBXacNv"
      ]
    },
    {
      "cell_type": "code",
      "source": [
        "import threading\n",
        "import time\n",
        "\n",
        "# Function for thread to print numbers from 1 to 10\n",
        "def print_numbers(thread_name):\n",
        "    for i in range(1, 11):\n",
        "        print(f\"{thread_name}: {i}\")\n",
        "        time.sleep(1)\n",
        "\n",
        "# Create two threads\n",
        "thread1 = threading.Thread(target=print_numbers, args=(\"Thread 1\",))\n",
        "thread2 = threading.Thread(target=print_numbers, args=(\"Thread 2\",))\n",
        "\n",
        "# Start the threads\n",
        "thread1.start()\n",
        "thread2.start()\n",
        "\n",
        "# Wait for both threads to complete\n",
        "thread1.join()\n",
        "thread2.join()\n",
        "\n",
        "print(\"Both threads have finished execution.\")\n"
      ],
      "metadata": {
        "colab": {
          "base_uri": "https://localhost:8080/"
        },
        "id": "hnMyjtQ35MXh",
        "outputId": "3e6d9d98-8212-4f14-e0c7-b9b8972b3419"
      },
      "execution_count": null,
      "outputs": [
        {
          "output_type": "stream",
          "name": "stdout",
          "text": [
            "Thread 1: 1\n",
            "Thread 2: 1\n",
            "Thread 1: 2\n",
            "Thread 2: 2\n",
            "Thread 1: 3\n",
            "Thread 2: 3\n",
            "Thread 1: 4\n",
            "Thread 2: 4\n",
            "Thread 1: 5\n",
            "Thread 2: 5\n",
            "Thread 1: 6\n",
            "Thread 2: 6\n",
            "Thread 1: 7\n",
            "Thread 2: 7\n",
            "Thread 1: 8\n",
            "Thread 2: 8\n",
            "Thread 1: 9\n",
            "Thread 2: 9\n",
            "Thread 1: 10\n",
            "Thread 2: 10\n",
            "Both threads have finished execution.\n"
          ]
        }
      ]
    },
    {
      "cell_type": "code",
      "source": [
        "from flask import Flask\n",
        "import threading\n",
        "import time\n",
        "\n",
        "app = Flask(__name__)\n",
        "\n",
        "def long_running_task(task_id):\n",
        "    for i in range(1, 11):\n",
        "        print(f\"Task {task_id}: {i}\")\n",
        "        time.sleep(1)\n",
        "    print(f\"Task {task_id} completed.\")\n",
        "\n",
        "@app.route('/start_task/<task_id>')\n",
        "def start_task(task_id):\n",
        "    task_thread = threading.Thread(target=long_running_task, args=(task_id,))\n",
        "    task_thread.start()\n",
        "    return f\"Task {task_id} has started!\"\n",
        "\n",
        "if __name__ == '__main__':\n",
        "    app.run(debug=True)\n"
      ],
      "metadata": {
        "colab": {
          "base_uri": "https://localhost:8080/"
        },
        "id": "hPPfKzin6CWL",
        "outputId": "2b0dbefa-ddda-4919-beac-05452e47b163"
      },
      "execution_count": null,
      "outputs": [
        {
          "output_type": "stream",
          "name": "stdout",
          "text": [
            " * Serving Flask app '__main__'\n",
            " * Debug mode: on\n"
          ]
        },
        {
          "output_type": "stream",
          "name": "stderr",
          "text": [
            "INFO:werkzeug:\u001b[31m\u001b[1mWARNING: This is a development server. Do not use it in a production deployment. Use a production WSGI server instead.\u001b[0m\n",
            " * Running on http://127.0.0.1:5000\n",
            "INFO:werkzeug:\u001b[33mPress CTRL+C to quit\u001b[0m\n",
            "INFO:werkzeug: * Restarting with stat\n"
          ]
        }
      ]
    }
  ]
}